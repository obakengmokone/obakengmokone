{
  "cells": [
    {
      "cell_type": "markdown",
      "metadata": {
        "id": "view-in-github",
        "colab_type": "text"
      },
      "source": [
        "<a href=\"https://colab.research.google.com/github/obakengmokone/obakengmokone/blob/main/search.ipynb\" target=\"_parent\"><img src=\"https://colab.research.google.com/assets/colab-badge.svg\" alt=\"Open In Colab\"/></a>"
      ]
    },
    {
      "cell_type": "code",
      "execution_count": 1,
      "metadata": {
        "id": "kAwR7hzHxkRU"
      },
      "outputs": [],
      "source": [
        "import random"
      ]
    },
    {
      "cell_type": "code",
      "execution_count": 2,
      "metadata": {
        "id": "LX__JCjGw7G4"
      },
      "outputs": [],
      "source": [
        "def unsorted(L):\n",
        "  '''\n",
        "  Make randomly sorted list\n",
        "  '''\n",
        "  ul = []\n",
        "  for i in range(len(L)):\n",
        "    j = random.randint(0, len(L)-1)\n",
        "    ul.append(L[j])\n",
        "    L.remove(L[j])\n",
        "\n",
        "  return ul"
      ]
    },
    {
      "cell_type": "code",
      "execution_count": 3,
      "metadata": {
        "id": "Y9z8Kz_ft6hC"
      },
      "outputs": [],
      "source": [
        "def search(x, L):\n",
        "  '''\n",
        "  Get index of x in unsorted list L\n",
        "  i.e. i such that x=L[i]\n",
        "  '''\n",
        "  for i in range(len(L)):\n",
        "    if x == L[i]:\n",
        "      return i\n",
        "  return str(x) + ' not in directory'"
      ]
    },
    {
      "cell_type": "code",
      "execution_count": 4,
      "metadata": {
        "id": "ZvpxfG8gtpnI"
      },
      "outputs": [],
      "source": [
        "L = list(range(2**10))"
      ]
    },
    {
      "cell_type": "code",
      "execution_count": 5,
      "metadata": {
        "id": "KWsSl9AUwXHb"
      },
      "outputs": [],
      "source": [
        "l = unsorted(L)"
      ]
    },
    {
      "cell_type": "markdown",
      "metadata": {
        "id": "zKuj4cx0IJyg"
      },
      "source": [
        "x=5 is in the list "
      ]
    },
    {
      "cell_type": "code",
      "execution_count": 6,
      "metadata": {
        "colab": {
          "base_uri": "https://localhost:8080/"
        },
        "id": "ewoL3dgUzFMo",
        "outputId": "fdd40c87-b07a-41ef-9d73-4b66556e69e0"
      },
      "outputs": [
        {
          "output_type": "execute_result",
          "data": {
            "text/plain": [
              "363"
            ]
          },
          "metadata": {},
          "execution_count": 6
        }
      ],
      "source": [
        "search(5, l)"
      ]
    },
    {
      "cell_type": "markdown",
      "metadata": {
        "id": "4lNSknH7mIQC"
      },
      "source": [
        "comparison made. "
      ]
    },
    {
      "cell_type": "markdown",
      "metadata": {
        "id": "kEK9GgmJIO3_"
      },
      "source": [
        "x=1024 not in the list"
      ]
    },
    {
      "cell_type": "code",
      "execution_count": 7,
      "metadata": {
        "colab": {
          "base_uri": "https://localhost:8080/",
          "height": 35
        },
        "id": "SNszWysq1OMe",
        "outputId": "1b22f146-351c-4ff0-dce1-98e70493d78c"
      },
      "outputs": [
        {
          "output_type": "execute_result",
          "data": {
            "text/plain": [
              "'1024 not in directory'"
            ],
            "application/vnd.google.colaboratory.intrinsic+json": {
              "type": "string"
            }
          },
          "metadata": {},
          "execution_count": 7
        }
      ],
      "source": [
        "search(1024, l)"
      ]
    },
    {
      "cell_type": "markdown",
      "metadata": {
        "id": "OCJyybocaRcd"
      },
      "source": [
        "### SIMULATION"
      ]
    },
    {
      "cell_type": "code",
      "execution_count": null,
      "metadata": {
        "id": "tVXvBpqPbdwM"
      },
      "outputs": [],
      "source": [
        "import statistics as sta"
      ]
    },
    {
      "cell_type": "code",
      "execution_count": null,
      "metadata": {
        "colab": {
          "base_uri": "https://localhost:8080/"
        },
        "id": "av4WM6iwcsLG",
        "outputId": "f50ec331-5683-4f75-dc62-53cd94f466bc"
      },
      "outputs": [
        {
          "data": {
            "text/plain": [
              "512.0"
            ]
          },
          "execution_count": 19,
          "metadata": {},
          "output_type": "execute_result"
        }
      ],
      "source": [
        "len(list(range(2**10)))/2"
      ]
    },
    {
      "cell_type": "code",
      "execution_count": null,
      "metadata": {
        "colab": {
          "background_save": true
        },
        "id": "BhQJLyoRaWQM",
        "outputId": "17a417a7-a425-41bf-a976-c0d61562e2d5"
      },
      "outputs": [
        {
          "name": "stdout",
          "output_type": "stream",
          "text": [
            "508.7615\n",
            "296.5719978567452\n"
          ]
        }
      ],
      "source": [
        "N = 10000\n",
        "\n",
        "sims = []\n",
        "\n",
        "for i in range(N):\n",
        "  L = list(range(2**10))\n",
        "  l = unsorted(L)\n",
        "  sims.append(search(5, l))\n",
        "\n",
        "comparisons = [i+1 for i in sims]\n",
        "\n",
        "print(sta.mean(comparisons))\n",
        "print(sta.stdev(comparisons))\n"
      ]
    },
    {
      "cell_type": "code",
      "execution_count": null,
      "metadata": {
        "colab": {
          "base_uri": "https://localhost:8080/"
        },
        "id": "AL8kcg6ydHDN",
        "outputId": "810779b3-6dee-4f9a-a5a3-5b3d787c3225"
      },
      "outputs": [
        {
          "data": {
            "text/plain": [
              "1023"
            ]
          },
          "execution_count": 16,
          "metadata": {},
          "output_type": "execute_result"
        }
      ],
      "source": [
        "min(sims)\n",
        "max(sims)"
      ]
    }
  ],
  "metadata": {
    "accelerator": "GPU",
    "colab": {
      "name": "search.ipynb",
      "provenance": [],
      "authorship_tag": "ABX9TyMGViRWQ5HlanDel8RsNuDy",
      "include_colab_link": true
    },
    "kernelspec": {
      "display_name": "Python 3",
      "name": "python3"
    },
    "language_info": {
      "name": "python"
    }
  },
  "nbformat": 4,
  "nbformat_minor": 0
}